{
  "nbformat": 4,
  "nbformat_minor": 0,
  "metadata": {
    "colab": {
      "name": "Robinson_Fould_Distance.ipynb",
      "provenance": []
    },
    "kernelspec": {
      "name": "python3",
      "display_name": "Python 3"
    },
    "language_info": {
      "name": "python"
    }
  },
  "cells": [
    {
      "cell_type": "markdown",
      "source": [
        "## Mounting Drive"
      ],
      "metadata": {
        "id": "Al_s4HvZK8NZ"
      }
    },
    {
      "cell_type": "code",
      "metadata": {
        "colab": {
          "base_uri": "https://localhost:8080/"
        },
        "id": "t702PnTpm8Sm",
        "outputId": "9940c6a9-8012-4ca6-c593-94e018680a32"
      },
      "source": [
        "from google.colab import drive\n",
        "drive.mount('/content/drive')"
      ],
      "execution_count": 1,
      "outputs": [
        {
          "output_type": "stream",
          "name": "stdout",
          "text": [
            "Mounted at /content/drive\n"
          ]
        }
      ]
    },
    {
      "cell_type": "markdown",
      "source": [
        "# Imports"
      ],
      "metadata": {
        "id": "7B9Evy8-x9Zk"
      }
    },
    {
      "cell_type": "code",
      "metadata": {
        "id": "sS2mZMtUnABC",
        "colab": {
          "base_uri": "https://localhost:8080/"
        },
        "outputId": "3cf6b9ae-f797-4b22-8703-b107f8bcfda5"
      },
      "source": [
        "! pip install ete3\n",
        "! pip install robinson-foulds"
      ],
      "execution_count": 2,
      "outputs": [
        {
          "output_type": "stream",
          "name": "stdout",
          "text": [
            "Collecting ete3\n",
            "  Downloading ete3-3.1.2.tar.gz (4.7 MB)\n",
            "\u001b[K     |████████████████████████████████| 4.7 MB 9.0 MB/s \n",
            "\u001b[?25hBuilding wheels for collected packages: ete3\n",
            "  Building wheel for ete3 (setup.py) ... \u001b[?25l\u001b[?25hdone\n",
            "  Created wheel for ete3: filename=ete3-3.1.2-py3-none-any.whl size=2273013 sha256=d8df4aa612d5d461f30a91241c32bc800c07083f7abb6d4c5cb396fe4f638f08\n",
            "  Stored in directory: /root/.cache/pip/wheels/17/fd/e2/6ac384d8c2484789304657dde01b96d7ab83f4f1dd96d266df\n",
            "Successfully built ete3\n",
            "Installing collected packages: ete3\n",
            "Successfully installed ete3-3.1.2\n",
            "Collecting robinson-foulds\n",
            "  Downloading robinson_foulds-1.1-py3-none-any.whl (3.6 kB)\n",
            "Requirement already satisfied: ete3 in /usr/local/lib/python3.7/dist-packages (from robinson-foulds) (3.1.2)\n",
            "Installing collected packages: robinson-foulds\n",
            "Successfully installed robinson-foulds-1.1\n"
          ]
        }
      ]
    },
    {
      "cell_type": "code",
      "source": [
        "from ete3 import Tree"
      ],
      "metadata": {
        "id": "94J8zpVtDJkJ"
      },
      "execution_count": 3,
      "outputs": []
    },
    {
      "cell_type": "markdown",
      "source": [
        "##Protein Set"
      ],
      "metadata": {
        "id": "gNZx6ko_LFtn"
      }
    },
    {
      "cell_type": "code",
      "source": [
        "protein_set = [\"TonB-dependent receptor\", \"LysR family transcriptional regulator\", \"helix-turn-helix domain-containing protein\", \"efflux transporter outer membrane subunit\"]"
      ],
      "metadata": {
        "id": "YBQPvIa3DKMp"
      },
      "execution_count": 4,
      "outputs": []
    },
    {
      "cell_type": "markdown",
      "source": [
        "## Computation"
      ],
      "metadata": {
        "id": "36KvxBegLQnC"
      }
    },
    {
      "cell_type": "code",
      "metadata": {
        "colab": {
          "base_uri": "https://localhost:8080/"
        },
        "id": "Px2MmJrUm_1L",
        "outputId": "1568455d-6a6f-4763-a348-8aed276f0e54"
      },
      "source": [
        "for i in range (0,len(protein_set)-1):\n",
        "  for j in range (i+1, len(protein_set)):\n",
        "\n",
        "    # load two phylip files of two trees\n",
        "    tree1 = Tree(\"/content/drive/MyDrive/phylip_files/\"+protein_set[i]+\".ph\")\n",
        "    tree2 = Tree(\"/content/drive/MyDrive/phylip_files/\"+protein_set[j]+\".ph\")\n",
        "\n",
        "    # Comparison of teo trees\n",
        "    results = tree2.robinson_foulds(tree1, unrooted_trees=True)\n",
        "\n",
        "    print (\"Robinson-Foulds Distance of \"+protein_set[i] +\" and \" + protein_set[j] + \" : \" ,results[0], \"\\n\") "
      ],
      "execution_count": 6,
      "outputs": [
        {
          "output_type": "stream",
          "name": "stdout",
          "text": [
            "Robinson-Foulds Distance of TonB-dependent receptor and LysR family transcriptional regulator :  20 \n",
            "\n",
            "Robinson-Foulds Distance of TonB-dependent receptor and helix-turn-helix domain-containing protein :  20 \n",
            "\n",
            "Robinson-Foulds Distance of TonB-dependent receptor and efflux transporter outer membrane subunit :  18 \n",
            "\n",
            "Robinson-Foulds Distance of LysR family transcriptional regulator and helix-turn-helix domain-containing protein :  16 \n",
            "\n",
            "Robinson-Foulds Distance of LysR family transcriptional regulator and efflux transporter outer membrane subunit :  18 \n",
            "\n",
            "Robinson-Foulds Distance of helix-turn-helix domain-containing protein and efflux transporter outer membrane subunit :  18 \n",
            "\n"
          ]
        }
      ]
    },
    {
      "cell_type": "code",
      "source": [
        ""
      ],
      "metadata": {
        "id": "jiq7zuxmErzb"
      },
      "execution_count": null,
      "outputs": []
    }
  ]
}
